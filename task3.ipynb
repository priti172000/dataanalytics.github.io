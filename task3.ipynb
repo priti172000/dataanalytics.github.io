{
  "nbformat": 4,
  "nbformat_minor": 0,
  "metadata": {
    "colab": {
      "name": "task3.ipynb",
      "provenance": [],
      "collapsed_sections": [],
      "authorship_tag": "ABX9TyPF3xHiZ7rjdU4C2bHaUc9o",
      "include_colab_link": true
    },
    "kernelspec": {
      "name": "python3",
      "display_name": "Python 3"
    },
    "language_info": {
      "name": "python"
    }
  },
  "cells": [
    {
      "cell_type": "markdown",
      "metadata": {
        "id": "view-in-github",
        "colab_type": "text"
      },
      "source": [
        "<a href=\"https://colab.research.google.com/github/priti172000/dataanalytics.github.io/blob/main/task3.ipynb\" target=\"_parent\"><img src=\"https://colab.research.google.com/assets/colab-badge.svg\" alt=\"Open In Colab\"/></a>"
      ]
    },
    {
      "cell_type": "code",
      "metadata": {
        "id": "CKbwPbOMgVIp"
      },
      "source": [
        "import numpy as np\n",
        "import pandas as pd\n",
        "import matplotlib.pyplot as plt\n",
        "import seaborn as sns\n",
        "%matplotlib inline"
      ],
      "execution_count": null,
      "outputs": []
    },
    {
      "cell_type": "code",
      "metadata": {
        "id": "nrGHHOeGjUCd"
      },
      "source": [
        "import warnings\n",
        "warnings.filterwarnings('ignore')"
      ],
      "execution_count": null,
      "outputs": []
    },
    {
      "cell_type": "code",
      "metadata": {
        "colab": {
          "base_uri": "https://localhost:8080/",
          "height": 76
        },
        "id": "nXDH54gSkTpd",
        "outputId": "996bf9e3-1857-431c-c4e2-623520d3031c"
      },
      "source": [
        "sns.color_palette(\"tab10\")"
      ],
      "execution_count": null,
      "outputs": [
        {
          "output_type": "execute_result",
          "data": {
            "text/html": [
              "<svg  width=\"550\" height=\"55\"><rect x=\"0\" y=\"0\" width=\"55\" height=\"55\" style=\"fill:#1f77b4;stroke-width:2;stroke:rgb(255,255,255)\"/><rect x=\"55\" y=\"0\" width=\"55\" height=\"55\" style=\"fill:#ff7f0e;stroke-width:2;stroke:rgb(255,255,255)\"/><rect x=\"110\" y=\"0\" width=\"55\" height=\"55\" style=\"fill:#2ca02c;stroke-width:2;stroke:rgb(255,255,255)\"/><rect x=\"165\" y=\"0\" width=\"55\" height=\"55\" style=\"fill:#d62728;stroke-width:2;stroke:rgb(255,255,255)\"/><rect x=\"220\" y=\"0\" width=\"55\" height=\"55\" style=\"fill:#9467bd;stroke-width:2;stroke:rgb(255,255,255)\"/><rect x=\"275\" y=\"0\" width=\"55\" height=\"55\" style=\"fill:#8c564b;stroke-width:2;stroke:rgb(255,255,255)\"/><rect x=\"330\" y=\"0\" width=\"55\" height=\"55\" style=\"fill:#e377c2;stroke-width:2;stroke:rgb(255,255,255)\"/><rect x=\"385\" y=\"0\" width=\"55\" height=\"55\" style=\"fill:#7f7f7f;stroke-width:2;stroke:rgb(255,255,255)\"/><rect x=\"440\" y=\"0\" width=\"55\" height=\"55\" style=\"fill:#bcbd22;stroke-width:2;stroke:rgb(255,255,255)\"/><rect x=\"495\" y=\"0\" width=\"55\" height=\"55\" style=\"fill:#17becf;stroke-width:2;stroke:rgb(255,255,255)\"/></svg>"
            ],
            "text/plain": [
              "[(0.12156862745098039, 0.4666666666666667, 0.7058823529411765),\n",
              " (1.0, 0.4980392156862745, 0.054901960784313725),\n",
              " (0.17254901960784313, 0.6274509803921569, 0.17254901960784313),\n",
              " (0.8392156862745098, 0.15294117647058825, 0.1568627450980392),\n",
              " (0.5803921568627451, 0.403921568627451, 0.7411764705882353),\n",
              " (0.5490196078431373, 0.33725490196078434, 0.29411764705882354),\n",
              " (0.8901960784313725, 0.4666666666666667, 0.7607843137254902),\n",
              " (0.4980392156862745, 0.4980392156862745, 0.4980392156862745),\n",
              " (0.7372549019607844, 0.7411764705882353, 0.13333333333333333),\n",
              " (0.09019607843137255, 0.7450980392156863, 0.8117647058823529)]"
            ]
          },
          "metadata": {
            "tags": []
          },
          "execution_count": 3
        }
      ]
    },
    {
      "cell_type": "markdown",
      "metadata": {
        "id": "Asjglav0kZ_v"
      },
      "source": [
        "Loading data"
      ]
    },
    {
      "cell_type": "code",
      "metadata": {
        "colab": {
          "base_uri": "https://localhost:8080/",
          "height": 326
        },
        "id": "pvTgDsf9kcBW",
        "outputId": "d89745d1-f397-4d0f-ef20-57967d344288"
      },
      "source": [
        "data = pd.read_csv('/content/SampleSuperstore.csv')\n",
        "data.head()\n"
      ],
      "execution_count": null,
      "outputs": [
        {
          "output_type": "execute_result",
          "data": {
            "text/html": [
              "<div>\n",
              "<style scoped>\n",
              "    .dataframe tbody tr th:only-of-type {\n",
              "        vertical-align: middle;\n",
              "    }\n",
              "\n",
              "    .dataframe tbody tr th {\n",
              "        vertical-align: top;\n",
              "    }\n",
              "\n",
              "    .dataframe thead th {\n",
              "        text-align: right;\n",
              "    }\n",
              "</style>\n",
              "<table border=\"1\" class=\"dataframe\">\n",
              "  <thead>\n",
              "    <tr style=\"text-align: right;\">\n",
              "      <th></th>\n",
              "      <th>Ship Mode</th>\n",
              "      <th>Segment</th>\n",
              "      <th>Country</th>\n",
              "      <th>City</th>\n",
              "      <th>State</th>\n",
              "      <th>Postal Code</th>\n",
              "      <th>Region</th>\n",
              "      <th>Category</th>\n",
              "      <th>Sub-Category</th>\n",
              "      <th>Sales</th>\n",
              "      <th>Quantity</th>\n",
              "      <th>Discount</th>\n",
              "      <th>Profit</th>\n",
              "    </tr>\n",
              "  </thead>\n",
              "  <tbody>\n",
              "    <tr>\n",
              "      <th>0</th>\n",
              "      <td>Second Class</td>\n",
              "      <td>Consumer</td>\n",
              "      <td>United States</td>\n",
              "      <td>Henderson</td>\n",
              "      <td>Kentucky</td>\n",
              "      <td>42420</td>\n",
              "      <td>South</td>\n",
              "      <td>Furniture</td>\n",
              "      <td>Bookcases</td>\n",
              "      <td>261.9600</td>\n",
              "      <td>2</td>\n",
              "      <td>0.00</td>\n",
              "      <td>41.9136</td>\n",
              "    </tr>\n",
              "    <tr>\n",
              "      <th>1</th>\n",
              "      <td>Second Class</td>\n",
              "      <td>Consumer</td>\n",
              "      <td>United States</td>\n",
              "      <td>Henderson</td>\n",
              "      <td>Kentucky</td>\n",
              "      <td>42420</td>\n",
              "      <td>South</td>\n",
              "      <td>Furniture</td>\n",
              "      <td>Chairs</td>\n",
              "      <td>731.9400</td>\n",
              "      <td>3</td>\n",
              "      <td>0.00</td>\n",
              "      <td>219.5820</td>\n",
              "    </tr>\n",
              "    <tr>\n",
              "      <th>2</th>\n",
              "      <td>Second Class</td>\n",
              "      <td>Corporate</td>\n",
              "      <td>United States</td>\n",
              "      <td>Los Angeles</td>\n",
              "      <td>California</td>\n",
              "      <td>90036</td>\n",
              "      <td>West</td>\n",
              "      <td>Office Supplies</td>\n",
              "      <td>Labels</td>\n",
              "      <td>14.6200</td>\n",
              "      <td>2</td>\n",
              "      <td>0.00</td>\n",
              "      <td>6.8714</td>\n",
              "    </tr>\n",
              "    <tr>\n",
              "      <th>3</th>\n",
              "      <td>Standard Class</td>\n",
              "      <td>Consumer</td>\n",
              "      <td>United States</td>\n",
              "      <td>Fort Lauderdale</td>\n",
              "      <td>Florida</td>\n",
              "      <td>33311</td>\n",
              "      <td>South</td>\n",
              "      <td>Furniture</td>\n",
              "      <td>Tables</td>\n",
              "      <td>957.5775</td>\n",
              "      <td>5</td>\n",
              "      <td>0.45</td>\n",
              "      <td>-383.0310</td>\n",
              "    </tr>\n",
              "    <tr>\n",
              "      <th>4</th>\n",
              "      <td>Standard Class</td>\n",
              "      <td>Consumer</td>\n",
              "      <td>United States</td>\n",
              "      <td>Fort Lauderdale</td>\n",
              "      <td>Florida</td>\n",
              "      <td>33311</td>\n",
              "      <td>South</td>\n",
              "      <td>Office Supplies</td>\n",
              "      <td>Storage</td>\n",
              "      <td>22.3680</td>\n",
              "      <td>2</td>\n",
              "      <td>0.20</td>\n",
              "      <td>2.5164</td>\n",
              "    </tr>\n",
              "  </tbody>\n",
              "</table>\n",
              "</div>"
            ],
            "text/plain": [
              "        Ship Mode    Segment        Country  ... Quantity Discount    Profit\n",
              "0    Second Class   Consumer  United States  ...        2     0.00   41.9136\n",
              "1    Second Class   Consumer  United States  ...        3     0.00  219.5820\n",
              "2    Second Class  Corporate  United States  ...        2     0.00    6.8714\n",
              "3  Standard Class   Consumer  United States  ...        5     0.45 -383.0310\n",
              "4  Standard Class   Consumer  United States  ...        2     0.20    2.5164\n",
              "\n",
              "[5 rows x 13 columns]"
            ]
          },
          "metadata": {
            "tags": []
          },
          "execution_count": 6
        }
      ]
    },
    {
      "cell_type": "code",
      "metadata": {
        "colab": {
          "base_uri": "https://localhost:8080/",
          "height": 326
        },
        "id": "bBoIKG9_l11L",
        "outputId": "9ae31beb-14d0-4a44-fb01-724359106e0c"
      },
      "source": [
        "data.tail()"
      ],
      "execution_count": null,
      "outputs": [
        {
          "output_type": "execute_result",
          "data": {
            "text/html": [
              "<div>\n",
              "<style scoped>\n",
              "    .dataframe tbody tr th:only-of-type {\n",
              "        vertical-align: middle;\n",
              "    }\n",
              "\n",
              "    .dataframe tbody tr th {\n",
              "        vertical-align: top;\n",
              "    }\n",
              "\n",
              "    .dataframe thead th {\n",
              "        text-align: right;\n",
              "    }\n",
              "</style>\n",
              "<table border=\"1\" class=\"dataframe\">\n",
              "  <thead>\n",
              "    <tr style=\"text-align: right;\">\n",
              "      <th></th>\n",
              "      <th>Ship Mode</th>\n",
              "      <th>Segment</th>\n",
              "      <th>Country</th>\n",
              "      <th>City</th>\n",
              "      <th>State</th>\n",
              "      <th>Postal Code</th>\n",
              "      <th>Region</th>\n",
              "      <th>Category</th>\n",
              "      <th>Sub-Category</th>\n",
              "      <th>Sales</th>\n",
              "      <th>Quantity</th>\n",
              "      <th>Discount</th>\n",
              "      <th>Profit</th>\n",
              "    </tr>\n",
              "  </thead>\n",
              "  <tbody>\n",
              "    <tr>\n",
              "      <th>9989</th>\n",
              "      <td>Second Class</td>\n",
              "      <td>Consumer</td>\n",
              "      <td>United States</td>\n",
              "      <td>Miami</td>\n",
              "      <td>Florida</td>\n",
              "      <td>33180</td>\n",
              "      <td>South</td>\n",
              "      <td>Furniture</td>\n",
              "      <td>Furnishings</td>\n",
              "      <td>25.248</td>\n",
              "      <td>3</td>\n",
              "      <td>0.2</td>\n",
              "      <td>4.1028</td>\n",
              "    </tr>\n",
              "    <tr>\n",
              "      <th>9990</th>\n",
              "      <td>Standard Class</td>\n",
              "      <td>Consumer</td>\n",
              "      <td>United States</td>\n",
              "      <td>Costa Mesa</td>\n",
              "      <td>California</td>\n",
              "      <td>92627</td>\n",
              "      <td>West</td>\n",
              "      <td>Furniture</td>\n",
              "      <td>Furnishings</td>\n",
              "      <td>91.960</td>\n",
              "      <td>2</td>\n",
              "      <td>0.0</td>\n",
              "      <td>15.6332</td>\n",
              "    </tr>\n",
              "    <tr>\n",
              "      <th>9991</th>\n",
              "      <td>Standard Class</td>\n",
              "      <td>Consumer</td>\n",
              "      <td>United States</td>\n",
              "      <td>Costa Mesa</td>\n",
              "      <td>California</td>\n",
              "      <td>92627</td>\n",
              "      <td>West</td>\n",
              "      <td>Technology</td>\n",
              "      <td>Phones</td>\n",
              "      <td>258.576</td>\n",
              "      <td>2</td>\n",
              "      <td>0.2</td>\n",
              "      <td>19.3932</td>\n",
              "    </tr>\n",
              "    <tr>\n",
              "      <th>9992</th>\n",
              "      <td>Standard Class</td>\n",
              "      <td>Consumer</td>\n",
              "      <td>United States</td>\n",
              "      <td>Costa Mesa</td>\n",
              "      <td>California</td>\n",
              "      <td>92627</td>\n",
              "      <td>West</td>\n",
              "      <td>Office Supplies</td>\n",
              "      <td>Paper</td>\n",
              "      <td>29.600</td>\n",
              "      <td>4</td>\n",
              "      <td>0.0</td>\n",
              "      <td>13.3200</td>\n",
              "    </tr>\n",
              "    <tr>\n",
              "      <th>9993</th>\n",
              "      <td>Second Class</td>\n",
              "      <td>Consumer</td>\n",
              "      <td>United States</td>\n",
              "      <td>Westminster</td>\n",
              "      <td>California</td>\n",
              "      <td>92683</td>\n",
              "      <td>West</td>\n",
              "      <td>Office Supplies</td>\n",
              "      <td>Appliances</td>\n",
              "      <td>243.160</td>\n",
              "      <td>2</td>\n",
              "      <td>0.0</td>\n",
              "      <td>72.9480</td>\n",
              "    </tr>\n",
              "  </tbody>\n",
              "</table>\n",
              "</div>"
            ],
            "text/plain": [
              "           Ship Mode   Segment        Country  ... Quantity Discount   Profit\n",
              "9989    Second Class  Consumer  United States  ...        3      0.2   4.1028\n",
              "9990  Standard Class  Consumer  United States  ...        2      0.0  15.6332\n",
              "9991  Standard Class  Consumer  United States  ...        2      0.2  19.3932\n",
              "9992  Standard Class  Consumer  United States  ...        4      0.0  13.3200\n",
              "9993    Second Class  Consumer  United States  ...        2      0.0  72.9480\n",
              "\n",
              "[5 rows x 13 columns]"
            ]
          },
          "metadata": {
            "tags": []
          },
          "execution_count": 7
        }
      ]
    },
    {
      "cell_type": "code",
      "metadata": {
        "colab": {
          "base_uri": "https://localhost:8080/"
        },
        "id": "IIZb_bY0l-oo",
        "outputId": "7982d23d-63be-4e4a-a9b8-ab54e75d13c1"
      },
      "source": [
        "data.shape"
      ],
      "execution_count": null,
      "outputs": [
        {
          "output_type": "execute_result",
          "data": {
            "text/plain": [
              "(9994, 13)"
            ]
          },
          "metadata": {
            "tags": []
          },
          "execution_count": 9
        }
      ]
    },
    {
      "cell_type": "code",
      "metadata": {
        "colab": {
          "base_uri": "https://localhost:8080/",
          "height": 297
        },
        "id": "bdpmPLemmFJ6",
        "outputId": "42caf997-8767-484a-ffb8-0dd7cea728c8"
      },
      "source": [
        "data.describe()"
      ],
      "execution_count": null,
      "outputs": [
        {
          "output_type": "execute_result",
          "data": {
            "text/html": [
              "<div>\n",
              "<style scoped>\n",
              "    .dataframe tbody tr th:only-of-type {\n",
              "        vertical-align: middle;\n",
              "    }\n",
              "\n",
              "    .dataframe tbody tr th {\n",
              "        vertical-align: top;\n",
              "    }\n",
              "\n",
              "    .dataframe thead th {\n",
              "        text-align: right;\n",
              "    }\n",
              "</style>\n",
              "<table border=\"1\" class=\"dataframe\">\n",
              "  <thead>\n",
              "    <tr style=\"text-align: right;\">\n",
              "      <th></th>\n",
              "      <th>Postal Code</th>\n",
              "      <th>Sales</th>\n",
              "      <th>Quantity</th>\n",
              "      <th>Discount</th>\n",
              "      <th>Profit</th>\n",
              "    </tr>\n",
              "  </thead>\n",
              "  <tbody>\n",
              "    <tr>\n",
              "      <th>count</th>\n",
              "      <td>9994.000000</td>\n",
              "      <td>9994.000000</td>\n",
              "      <td>9994.000000</td>\n",
              "      <td>9994.000000</td>\n",
              "      <td>9994.000000</td>\n",
              "    </tr>\n",
              "    <tr>\n",
              "      <th>mean</th>\n",
              "      <td>55190.379428</td>\n",
              "      <td>229.858001</td>\n",
              "      <td>3.789574</td>\n",
              "      <td>0.156203</td>\n",
              "      <td>28.656896</td>\n",
              "    </tr>\n",
              "    <tr>\n",
              "      <th>std</th>\n",
              "      <td>32063.693350</td>\n",
              "      <td>623.245101</td>\n",
              "      <td>2.225110</td>\n",
              "      <td>0.206452</td>\n",
              "      <td>234.260108</td>\n",
              "    </tr>\n",
              "    <tr>\n",
              "      <th>min</th>\n",
              "      <td>1040.000000</td>\n",
              "      <td>0.444000</td>\n",
              "      <td>1.000000</td>\n",
              "      <td>0.000000</td>\n",
              "      <td>-6599.978000</td>\n",
              "    </tr>\n",
              "    <tr>\n",
              "      <th>25%</th>\n",
              "      <td>23223.000000</td>\n",
              "      <td>17.280000</td>\n",
              "      <td>2.000000</td>\n",
              "      <td>0.000000</td>\n",
              "      <td>1.728750</td>\n",
              "    </tr>\n",
              "    <tr>\n",
              "      <th>50%</th>\n",
              "      <td>56430.500000</td>\n",
              "      <td>54.490000</td>\n",
              "      <td>3.000000</td>\n",
              "      <td>0.200000</td>\n",
              "      <td>8.666500</td>\n",
              "    </tr>\n",
              "    <tr>\n",
              "      <th>75%</th>\n",
              "      <td>90008.000000</td>\n",
              "      <td>209.940000</td>\n",
              "      <td>5.000000</td>\n",
              "      <td>0.200000</td>\n",
              "      <td>29.364000</td>\n",
              "    </tr>\n",
              "    <tr>\n",
              "      <th>max</th>\n",
              "      <td>99301.000000</td>\n",
              "      <td>22638.480000</td>\n",
              "      <td>14.000000</td>\n",
              "      <td>0.800000</td>\n",
              "      <td>8399.976000</td>\n",
              "    </tr>\n",
              "  </tbody>\n",
              "</table>\n",
              "</div>"
            ],
            "text/plain": [
              "        Postal Code         Sales     Quantity     Discount       Profit\n",
              "count   9994.000000   9994.000000  9994.000000  9994.000000  9994.000000\n",
              "mean   55190.379428    229.858001     3.789574     0.156203    28.656896\n",
              "std    32063.693350    623.245101     2.225110     0.206452   234.260108\n",
              "min     1040.000000      0.444000     1.000000     0.000000 -6599.978000\n",
              "25%    23223.000000     17.280000     2.000000     0.000000     1.728750\n",
              "50%    56430.500000     54.490000     3.000000     0.200000     8.666500\n",
              "75%    90008.000000    209.940000     5.000000     0.200000    29.364000\n",
              "max    99301.000000  22638.480000    14.000000     0.800000  8399.976000"
            ]
          },
          "metadata": {
            "tags": []
          },
          "execution_count": 10
        }
      ]
    },
    {
      "cell_type": "code",
      "metadata": {
        "colab": {
          "base_uri": "https://localhost:8080/"
        },
        "id": "snrXZYbemLoN",
        "outputId": "e894ce7f-8d19-461b-8d49-bdf77475c681"
      },
      "source": [
        "data.columns"
      ],
      "execution_count": null,
      "outputs": [
        {
          "output_type": "execute_result",
          "data": {
            "text/plain": [
              "Index(['Ship Mode', 'Segment', 'Country', 'City', 'State', 'Postal Code',\n",
              "       'Region', 'Category', 'Sub-Category', 'Sales', 'Quantity', 'Discount',\n",
              "       'Profit'],\n",
              "      dtype='object')"
            ]
          },
          "metadata": {
            "tags": []
          },
          "execution_count": 11
        }
      ]
    },
    {
      "cell_type": "code",
      "metadata": {
        "id": "_vtjQ_HkmQRU",
        "colab": {
          "base_uri": "https://localhost:8080/"
        },
        "outputId": "9a358a09-7032-40a8-9b98-733f6de85ef5"
      },
      "source": [
        "data.info()"
      ],
      "execution_count": null,
      "outputs": [
        {
          "output_type": "stream",
          "text": [
            "<class 'pandas.core.frame.DataFrame'>\n",
            "RangeIndex: 9994 entries, 0 to 9993\n",
            "Data columns (total 13 columns):\n",
            " #   Column        Non-Null Count  Dtype  \n",
            "---  ------        --------------  -----  \n",
            " 0   Ship Mode     9994 non-null   object \n",
            " 1   Segment       9994 non-null   object \n",
            " 2   Country       9994 non-null   object \n",
            " 3   City          9994 non-null   object \n",
            " 4   State         9994 non-null   object \n",
            " 5   Postal Code   9994 non-null   int64  \n",
            " 6   Region        9994 non-null   object \n",
            " 7   Category      9994 non-null   object \n",
            " 8   Sub-Category  9994 non-null   object \n",
            " 9   Sales         9994 non-null   float64\n",
            " 10  Quantity      9994 non-null   int64  \n",
            " 11  Discount      9994 non-null   float64\n",
            " 12  Profit        9994 non-null   float64\n",
            "dtypes: float64(3), int64(2), object(8)\n",
            "memory usage: 1015.1+ KB\n"
          ],
          "name": "stdout"
        }
      ]
    },
    {
      "cell_type": "code",
      "metadata": {
        "colab": {
          "base_uri": "https://localhost:8080/"
        },
        "id": "i4hatmVAnHYn",
        "outputId": "0e8e40fb-b5ea-4f3d-d7f2-5f79e8ed648a"
      },
      "source": [
        "data ['Country'].value_counts()"
      ],
      "execution_count": null,
      "outputs": [
        {
          "output_type": "execute_result",
          "data": {
            "text/plain": [
              "United States    9994\n",
              "Name: Country, dtype: int64"
            ]
          },
          "metadata": {
            "tags": []
          },
          "execution_count": 13
        }
      ]
    },
    {
      "cell_type": "markdown",
      "metadata": {
        "id": "lKnUYL9bnX-W"
      },
      "source": [
        "Calculating cost "
      ]
    },
    {
      "cell_type": "code",
      "metadata": {
        "id": "0AtGLHXMnc5i"
      },
      "source": [
        "data['Cost']=data['Sales']-data['Profit']"
      ],
      "execution_count": null,
      "outputs": []
    },
    {
      "cell_type": "markdown",
      "metadata": {
        "id": "fSwWGx2wn11H"
      },
      "source": [
        "Calculating profit"
      ]
    },
    {
      "cell_type": "code",
      "metadata": {
        "id": "SRYHkF3Rn5T7"
      },
      "source": [
        "data['Cost']= (data['Profit']/data['Cost']*100)"
      ],
      "execution_count": null,
      "outputs": []
    },
    {
      "cell_type": "code",
      "metadata": {
        "colab": {
          "base_uri": "https://localhost:8080/",
          "height": 306
        },
        "id": "nUUQOHCXog4D",
        "outputId": "87137081-8cbc-4968-afcf-b877a146f69a"
      },
      "source": [
        "data.head()"
      ],
      "execution_count": null,
      "outputs": [
        {
          "output_type": "execute_result",
          "data": {
            "text/html": [
              "<div>\n",
              "<style scoped>\n",
              "    .dataframe tbody tr th:only-of-type {\n",
              "        vertical-align: middle;\n",
              "    }\n",
              "\n",
              "    .dataframe tbody tr th {\n",
              "        vertical-align: top;\n",
              "    }\n",
              "\n",
              "    .dataframe thead th {\n",
              "        text-align: right;\n",
              "    }\n",
              "</style>\n",
              "<table border=\"1\" class=\"dataframe\">\n",
              "  <thead>\n",
              "    <tr style=\"text-align: right;\">\n",
              "      <th></th>\n",
              "      <th>Ship Mode</th>\n",
              "      <th>Segment</th>\n",
              "      <th>Country</th>\n",
              "      <th>City</th>\n",
              "      <th>State</th>\n",
              "      <th>Postal Code</th>\n",
              "      <th>Region</th>\n",
              "      <th>Category</th>\n",
              "      <th>Sub-Category</th>\n",
              "      <th>Sales</th>\n",
              "      <th>Quantity</th>\n",
              "      <th>Discount</th>\n",
              "      <th>Profit</th>\n",
              "      <th>Cost</th>\n",
              "    </tr>\n",
              "  </thead>\n",
              "  <tbody>\n",
              "    <tr>\n",
              "      <th>0</th>\n",
              "      <td>Second Class</td>\n",
              "      <td>Consumer</td>\n",
              "      <td>United States</td>\n",
              "      <td>Henderson</td>\n",
              "      <td>Kentucky</td>\n",
              "      <td>42420</td>\n",
              "      <td>South</td>\n",
              "      <td>Furniture</td>\n",
              "      <td>Bookcases</td>\n",
              "      <td>261.9600</td>\n",
              "      <td>2</td>\n",
              "      <td>0.00</td>\n",
              "      <td>41.9136</td>\n",
              "      <td>19.047619</td>\n",
              "    </tr>\n",
              "    <tr>\n",
              "      <th>1</th>\n",
              "      <td>Second Class</td>\n",
              "      <td>Consumer</td>\n",
              "      <td>United States</td>\n",
              "      <td>Henderson</td>\n",
              "      <td>Kentucky</td>\n",
              "      <td>42420</td>\n",
              "      <td>South</td>\n",
              "      <td>Furniture</td>\n",
              "      <td>Chairs</td>\n",
              "      <td>731.9400</td>\n",
              "      <td>3</td>\n",
              "      <td>0.00</td>\n",
              "      <td>219.5820</td>\n",
              "      <td>42.857143</td>\n",
              "    </tr>\n",
              "    <tr>\n",
              "      <th>2</th>\n",
              "      <td>Second Class</td>\n",
              "      <td>Corporate</td>\n",
              "      <td>United States</td>\n",
              "      <td>Los Angeles</td>\n",
              "      <td>California</td>\n",
              "      <td>90036</td>\n",
              "      <td>West</td>\n",
              "      <td>Office Supplies</td>\n",
              "      <td>Labels</td>\n",
              "      <td>14.6200</td>\n",
              "      <td>2</td>\n",
              "      <td>0.00</td>\n",
              "      <td>6.8714</td>\n",
              "      <td>88.679245</td>\n",
              "    </tr>\n",
              "    <tr>\n",
              "      <th>3</th>\n",
              "      <td>Standard Class</td>\n",
              "      <td>Consumer</td>\n",
              "      <td>United States</td>\n",
              "      <td>Fort Lauderdale</td>\n",
              "      <td>Florida</td>\n",
              "      <td>33311</td>\n",
              "      <td>South</td>\n",
              "      <td>Furniture</td>\n",
              "      <td>Tables</td>\n",
              "      <td>957.5775</td>\n",
              "      <td>5</td>\n",
              "      <td>0.45</td>\n",
              "      <td>-383.0310</td>\n",
              "      <td>-28.571429</td>\n",
              "    </tr>\n",
              "    <tr>\n",
              "      <th>4</th>\n",
              "      <td>Standard Class</td>\n",
              "      <td>Consumer</td>\n",
              "      <td>United States</td>\n",
              "      <td>Fort Lauderdale</td>\n",
              "      <td>Florida</td>\n",
              "      <td>33311</td>\n",
              "      <td>South</td>\n",
              "      <td>Office Supplies</td>\n",
              "      <td>Storage</td>\n",
              "      <td>22.3680</td>\n",
              "      <td>2</td>\n",
              "      <td>0.20</td>\n",
              "      <td>2.5164</td>\n",
              "      <td>12.676056</td>\n",
              "    </tr>\n",
              "  </tbody>\n",
              "</table>\n",
              "</div>"
            ],
            "text/plain": [
              "        Ship Mode    Segment        Country  ... Discount    Profit       Cost\n",
              "0    Second Class   Consumer  United States  ...     0.00   41.9136  19.047619\n",
              "1    Second Class   Consumer  United States  ...     0.00  219.5820  42.857143\n",
              "2    Second Class  Corporate  United States  ...     0.00    6.8714  88.679245\n",
              "3  Standard Class   Consumer  United States  ...     0.45 -383.0310 -28.571429\n",
              "4  Standard Class   Consumer  United States  ...     0.20    2.5164  12.676056\n",
              "\n",
              "[5 rows x 14 columns]"
            ]
          },
          "metadata": {
            "tags": []
          },
          "execution_count": 17
        }
      ]
    },
    {
      "cell_type": "markdown",
      "metadata": {
        "id": "Y9PExMc5oqjC"
      },
      "source": [
        "Multivariate Visualizations\n",
        " correlation matrix and heatmap"
      ]
    },
    {
      "cell_type": "code",
      "metadata": {
        "colab": {
          "base_uri": "https://localhost:8080/",
          "height": 407
        },
        "id": "VFEJ5M_vot_x",
        "outputId": "416a21eb-8f3c-4274-c47e-4f10ad3af1d7"
      },
      "source": [
        "datacorr = data.corr()\n",
        "plt.figure(figsize=(8,6))\n",
        "sns.heatmap(datacorr, annot=True, cmap='RdYlGn')\n",
        "plt.title('Correlation between variables')"
      ],
      "execution_count": null,
      "outputs": [
        {
          "output_type": "execute_result",
          "data": {
            "text/plain": [
              "Text(0.5, 1.0, 'Correlation between variables')"
            ]
          },
          "metadata": {
            "tags": []
          },
          "execution_count": 19
        },
        {
          "output_type": "display_data",
          "data": {
            "image/png": "[encoded data removed]",
            "text/plain": [
              "<Figure size 576x432 with 2 Axes>"
            ]
          },
          "metadata": {
            "tags": [],
            "needs_background": "light"
          }
        }
      ]
    },
    {
      "cell_type": "markdown",
      "metadata": {
        "id": "r9NHWWh_qRlN"
      },
      "source": [
        "Finding modes of shipping products and observing which is more preferred mode of shipping"
      ]
    },
    {
      "cell_type": "code",
      "metadata": {
        "colab": {
          "base_uri": "https://localhost:8080/"
        },
        "id": "2jH1FLlMqTO4",
        "outputId": "c0c83ac0-bf0a-40f6-ad57-3e4d07cc2868"
      },
      "source": [
        "shipmodetypes = data.groupby('Ship Mode')\n",
        "for i,df in shipmodetypes:\n",
        "    print(i)"
      ],
      "execution_count": null,
      "outputs": [
        {
          "output_type": "stream",
          "text": [
            "First Class\n",
            "Same Day\n",
            "Second Class\n",
            "Standard Class\n"
          ],
          "name": "stdout"
        }
      ]
    },
    {
      "cell_type": "code",
      "metadata": {
        "colab": {
          "base_uri": "https://localhost:8080/"
        },
        "id": "WGJYDU8LqnNG",
        "outputId": "56fcf82c-81b6-4b10-a9f3-247fe4dce21a"
      },
      "source": [
        "data.groupby('Ship Mode').groups"
      ],
      "execution_count": null,
      "outputs": [
        {
          "output_type": "execute_result",
          "data": {
            "text/plain": [
              "{'First Class': [35, 36, 44, 45, 55, 56, 57, 58, 59, 60, 61, 69, 75, 76, 77, 79, 80, 84, 97, 119, 120, 121, 122, 123, 130, 131, 132, 151, 152, 153, 154, 155, 160, 189, 190, 191, 192, 193, 201, 202, 219, 220, 221, 222, 223, 224, 252, 253, 271, 272, 273, 274, 275, 293, 294, 295, 296, 297, 308, 316, 326, 327, 328, 329, 330, 349, 350, 351, 352, 353, 359, 360, 376, 381, 382, 388, 402, 421, 427, 433, 484, 485, 486, 487, 510, 511, 512, 522, 523, 524, 540, 541, 546, 547, 552, 563, 564, 565, 598, 610, ...], 'Same Day': [366, 367, 368, 369, 657, 658, 664, 683, 684, 746, 747, 792, 813, 814, 882, 959, 987, 1001, 1002, 1003, 1086, 1135, 1146, 1147, 1148, 1149, 1150, 1166, 1193, 1194, 1195, 1196, 1234, 1235, 1236, 1237, 1273, 1274, 1275, 1276, 1355, 1356, 1382, 1383, 1384, 1385, 1386, 1387, 1388, 1389, 1390, 1391, 1392, 1437, 1438, 1459, 1467, 1473, 1508, 1562, 1563, 1564, 1568, 1593, 1630, 1631, 1632, 1633, 1634, 1650, 1651, 1704, 1728, 1729, 1815, 1816, 1830, 1831, 1847, 1848, 1862, 1865, 1880, 1881, 1882, 1979, 1980, 2011, 2012, 2102, 2106, 2107, 2108, 2109, 2110, 2111, 2112, 2113, 2114, 2115, ...], 'Second Class': [0, 1, 2, 17, 18, 19, 20, 23, 25, 26, 34, 46, 71, 78, 85, 88, 92, 93, 94, 96, 102, 113, 114, 115, 116, 124, 128, 129, 140, 157, 161, 176, 177, 178, 180, 181, 182, 183, 184, 203, 211, 237, 238, 239, 240, 241, 242, 243, 244, 245, 246, 247, 248, 249, 258, 259, 260, 262, 263, 270, 280, 281, 286, 287, 288, 289, 290, 291, 292, 304, 309, 310, 311, 312, 325, 331, 332, 333, 334, 335, 336, 339, 340, 341, 342, 343, 383, 391, 392, 393, 395, 396, 398, 399, 400, 401, 424, 425, 426, 436, ...], 'Standard Class': [3, 4, 5, 6, 7, 8, 9, 10, 11, 12, 13, 14, 15, 16, 21, 22, 24, 27, 28, 29, 30, 31, 32, 33, 37, 38, 39, 40, 41, 42, 43, 47, 48, 49, 50, 51, 52, 53, 54, 62, 63, 64, 65, 66, 67, 68, 70, 72, 73, 74, 81, 82, 83, 86, 87, 89, 90, 91, 95, 98, 99, 100, 101, 103, 104, 105, 106, 107, 108, 109, 110, 111, 112, 117, 118, 125, 126, 127, 133, 134, 135, 136, 137, 138, 139, 141, 142, 143, 144, 145, 146, 147, 148, 149, 150, 156, 158, 159, 162, 163, ...]}"
            ]
          },
          "metadata": {
            "tags": []
          },
          "execution_count": 21
        }
      ]
    },
    {
      "cell_type": "code",
      "metadata": {
        "colab": {
          "base_uri": "https://localhost:8080/"
        },
        "id": "tz34dhPKsqPj",
        "outputId": "8a314fb9-7fa9-4c7e-bdd5-a951c0157c90"
      },
      "source": [
        "data['Ship Mode'].value_counts()"
      ],
      "execution_count": null,
      "outputs": [
        {
          "output_type": "execute_result",
          "data": {
            "text/plain": [
              "Standard Class    5968\n",
              "Second Class      1945\n",
              "First Class       1538\n",
              "Same Day           543\n",
              "Name: Ship Mode, dtype: int64"
            ]
          },
          "metadata": {
            "tags": []
          },
          "execution_count": 23
        }
      ]
    },
    {
      "cell_type": "code",
      "metadata": {
        "colab": {
          "base_uri": "https://localhost:8080/",
          "height": 312
        },
        "id": "UY-N6xiCtyOm",
        "outputId": "8bf8bea5-6170-423e-a03e-05b182eb0aa4"
      },
      "source": [
        "sns.histplot(x=data['Ship Mode'], color='g')\n",
        "plt.title('Ship Mode Preference')"
      ],
      "execution_count": null,
      "outputs": [
        {
          "output_type": "execute_result",
          "data": {
            "text/plain": [
              "Text(0.5, 1.0, 'Ship Mode Preference')"
            ]
          },
          "metadata": {
            "tags": []
          },
          "execution_count": 24
        },
        {
          "output_type": "display_data",
          "data": {
            "image/png": "[encoded data removed]",
            "text/plain": [
              "<Figure size 432x288 with 1 Axes>"
            ]
          },
          "metadata": {
            "tags": [],
            "needs_background": "light"
          }
        }
      ]
    },
    {
      "cell_type": "markdown",
      "metadata": {
        "id": "E8QXHVeat9vK"
      },
      "source": [
        "Customer Segments\n",
        "\n"
      ]
    },
    {
      "cell_type": "code",
      "metadata": {
        "colab": {
          "base_uri": "https://localhost:8080/"
        },
        "id": "ZRxBQ81SuC0D",
        "outputId": "f87cbc63-7b8f-40f8-b980-9e3963deb850"
      },
      "source": [
        "segmenttypes = data.groupby('Segment')\n",
        "for i,df in segmenttypes:\n",
        "    print(i)"
      ],
      "execution_count": null,
      "outputs": [
        {
          "output_type": "stream",
          "text": [
            "Consumer\n",
            "Corporate\n",
            "Home Office\n"
          ],
          "name": "stdout"
        }
      ]
    },
    {
      "cell_type": "code",
      "metadata": {
        "colab": {
          "base_uri": "https://localhost:8080/"
        },
        "id": "QoRNrO7buLao",
        "outputId": "2949b13f-abda-4ace-d611-29b2fcae7f1f"
      },
      "source": [
        "data['Segment'].value_counts()"
      ],
      "execution_count": null,
      "outputs": [
        {
          "output_type": "execute_result",
          "data": {
            "text/plain": [
              "Consumer       5191\n",
              "Corporate      3020\n",
              "Home Office    1783\n",
              "Name: Segment, dtype: int64"
            ]
          },
          "metadata": {
            "tags": []
          },
          "execution_count": 26
        }
      ]
    },
    {
      "cell_type": "code",
      "metadata": {
        "colab": {
          "base_uri": "https://localhost:8080/",
          "height": 312
        },
        "id": "_tJn9uYNuSgr",
        "outputId": "8464a700-d7a5-4d12-ff42-6bf2c7b8bc9b"
      },
      "source": [
        "sns.histplot(x=data['Segment'])\n",
        "plt.title('Customer Segments')"
      ],
      "execution_count": null,
      "outputs": [
        {
          "output_type": "execute_result",
          "data": {
            "text/plain": [
              "Text(0.5, 1.0, 'Customer Segments')"
            ]
          },
          "metadata": {
            "tags": []
          },
          "execution_count": 27
        },
        {
          "output_type": "display_data",
          "data": {
            "image/png": "[encoded data removed]",
            "text/plain": [
              "<Figure size 432x288 with 1 Axes>"
            ]
          },
          "metadata": {
            "tags": [],
            "needs_background": "light"
          }
        }
      ]
    },
    {
      "cell_type": "markdown",
      "metadata": {
        "id": "-DSgiRSNuaJk"
      },
      "source": [
        "Category-wise Analysis"
      ]
    },
    {
      "cell_type": "code",
      "metadata": {
        "colab": {
          "base_uri": "https://localhost:8080/"
        },
        "id": "LPfhrpPvucMT",
        "outputId": "6a5167c5-7e93-4469-c290-f367e56766d7"
      },
      "source": [
        "cat = data.groupby('Category')\n",
        "for i,df in cat:\n",
        "    print(i)"
      ],
      "execution_count": null,
      "outputs": [
        {
          "output_type": "stream",
          "text": [
            "Furniture\n",
            "Office Supplies\n",
            "Technology\n"
          ],
          "name": "stdout"
        }
      ]
    },
    {
      "cell_type": "code",
      "metadata": {
        "colab": {
          "base_uri": "https://localhost:8080/",
          "height": 312
        },
        "id": "PeyBmFCAukSB",
        "outputId": "36174771-06e2-4526-ddb2-e4c12a85b85b"
      },
      "source": [
        "sns.countplot(x=data['Category'])\n",
        "plt.title('Categories of Products')\n"
      ],
      "execution_count": null,
      "outputs": [
        {
          "output_type": "execute_result",
          "data": {
            "text/plain": [
              "Text(0.5, 1.0, 'Categories of Products')"
            ]
          },
          "metadata": {
            "tags": []
          },
          "execution_count": 29
        },
        {
          "output_type": "display_data",
          "data": {
            "image/png": "[encoded data removed]",
            "text/plain": [
              "<Figure size 432x288 with 1 Axes>"
            ]
          },
          "metadata": {
            "tags": [],
            "needs_background": "light"
          }
        }
      ]
    },
    {
      "cell_type": "code",
      "metadata": {
        "colab": {
          "base_uri": "https://localhost:8080/",
          "height": 312
        },
        "id": "Swn7EtWMuv_c",
        "outputId": "4906e3d4-ce01-4d51-a2e0-4da866680eee"
      },
      "source": [
        "sns.countplot(x=data['Region'], hue=data['Category'])\n",
        "plt.title('Region-wise Ordered Product Categories')"
      ],
      "execution_count": null,
      "outputs": [
        {
          "output_type": "execute_result",
          "data": {
            "text/plain": [
              "Text(0.5, 1.0, 'Region-wise Ordered Product Categories')"
            ]
          },
          "metadata": {
            "tags": []
          },
          "execution_count": 30
        },
        {
          "output_type": "display_data",
          "data": {
            "image/png": "[encoded data removed]",
            "text/plain": [
              "<Figure size 432x288 with 1 Axes>"
            ]
          },
          "metadata": {
            "tags": [],
            "needs_background": "light"
          }
        }
      ]
    },
    {
      "cell_type": "code",
      "metadata": {
        "colab": {
          "base_uri": "https://localhost:8080/",
          "height": 296
        },
        "id": "8DvQlN3vu3hI",
        "outputId": "3aa2ec0d-9661-4380-9600-e698230b05af"
      },
      "source": [
        "sns.scatterplot(x=data['Ship Mode'], y=data['Sales'], hue=data['Category'])\n"
      ],
      "execution_count": null,
      "outputs": [
        {
          "output_type": "execute_result",
          "data": {
            "text/plain": [
              "<matplotlib.axes._subplots.AxesSubplot at 0x7f994854e0d0>"
            ]
          },
          "metadata": {
            "tags": []
          },
          "execution_count": 31
        },
        {
          "output_type": "display_data",
          "data": {
            "image/png": "[encoded data removed]",
            "text/plain": [
              "<Figure size 432x288 with 1 Axes>"
            ]
          },
          "metadata": {
            "tags": [],
            "needs_background": "light"
          }
        }
      ]
    },
    {
      "cell_type": "code",
      "metadata": {
        "colab": {
          "base_uri": "https://localhost:8080/",
          "height": 462
        },
        "id": "DoItpJmHu7mN",
        "outputId": "adb86c65-09f7-44ca-a79a-cacd9b717432"
      },
      "source": [
        "ds =data.groupby('Category')['Profit','Sales'].agg('sum')\n",
        "print(ds)\n",
        "ds.plot.bar()\n",
        "plt.legend(loc='upper left')\n",
        "plt.title('Category-wise Profit and Sale')\n"
      ],
      "execution_count": null,
      "outputs": [
        {
          "output_type": "stream",
          "text": [
            "                      Profit        Sales\n",
            "Category                                 \n",
            "Furniture         18451.2728  741999.7953\n",
            "Office Supplies  122490.8008  719047.0320\n",
            "Technology       145454.9481  836154.0330\n"
          ],
          "name": "stdout"
        },
        {
          "output_type": "execute_result",
          "data": {
            "text/plain": [
              "Text(0.5, 1.0, 'Category-wise Profit and Sale')"
            ]
          },
          "metadata": {
            "tags": []
          },
          "execution_count": 32
        },
        {
          "output_type": "display_data",
          "data": {
            "image/png": "[encoded data removed]",
            "text/plain": [
              "<Figure size 432x288 with 1 Axes>"
            ]
          },
          "metadata": {
            "tags": [],
            "needs_background": "light"
          }
        }
      ]
    },
    {
      "cell_type": "markdown",
      "metadata": {
        "id": "p5_6H9ApvFi3"
      },
      "source": [
        "Sub-Category-wise Analysis\n"
      ]
    },
    {
      "cell_type": "code",
      "metadata": {
        "colab": {
          "base_uri": "https://localhost:8080/"
        },
        "id": "-V3_fGzyvHMv",
        "outputId": "bb8a4f92-7ae7-4b79-89d3-2fb1da4fa204"
      },
      "source": [
        "subcatarr = []\n",
        "subcat = data.groupby('Sub-Category')\n",
        "for i,df in subcat:\n",
        "    print(i)\n",
        "    subcatarr.append(i)"
      ],
      "execution_count": null,
      "outputs": [
        {
          "output_type": "stream",
          "text": [
            "Accessories\n",
            "Appliances\n",
            "Art\n",
            "Binders\n",
            "Bookcases\n",
            "Chairs\n",
            "Copiers\n",
            "Envelopes\n",
            "Fasteners\n",
            "Furnishings\n",
            "Labels\n",
            "Machines\n",
            "Paper\n",
            "Phones\n",
            "Storage\n",
            "Supplies\n",
            "Tables\n"
          ],
          "name": "stdout"
        }
      ]
    },
    {
      "cell_type": "code",
      "metadata": {
        "colab": {
          "base_uri": "https://localhost:8080/",
          "height": 608
        },
        "id": "3Ro2o0VJvRlj",
        "outputId": "f5119551-8e70-4dbd-db93-f07812654d92"
      },
      "source": [
        "plt.figure(figsize=(10,10))\n",
        "data['Sub-Category'].value_counts().plot.pie(autopct=\"%1.1f%%\")\n",
        "plt.title('Quantity of different Sub-Categories Ordered')"
      ],
      "execution_count": null,
      "outputs": [
        {
          "output_type": "execute_result",
          "data": {
            "text/plain": [
              "Text(0.5, 1.0, 'Quantity of different Sub-Categories Ordered')"
            ]
          },
          "metadata": {
            "tags": []
          },
          "execution_count": 34
        },
        {
          "output_type": "display_data",
          "data": {
            "image/png": "[encoded data removed]",
            "text/plain": [
              "<Figure size 720x720 with 1 Axes>"
            ]
          },
          "metadata": {
            "tags": []
          }
        }
      ]
    },
    {
      "cell_type": "markdown",
      "metadata": {
        "id": "md6zmSmzvYz3"
      },
      "source": [
        "Region-wise Analysis"
      ]
    },
    {
      "cell_type": "code",
      "metadata": {
        "colab": {
          "base_uri": "https://localhost:8080/"
        },
        "id": "dd_jhYH1vauN",
        "outputId": "54324300-a3bd-4e6c-e85e-d2222d4810eb"
      },
      "source": [
        "regions = data.groupby('Region')\n",
        "for i,df in regions:\n",
        "    print(i)\n",
        "\n"
      ],
      "execution_count": null,
      "outputs": [
        {
          "output_type": "stream",
          "text": [
            "Central\n",
            "East\n",
            "South\n",
            "West\n"
          ],
          "name": "stdout"
        }
      ]
    },
    {
      "cell_type": "code",
      "metadata": {
        "colab": {
          "base_uri": "https://localhost:8080/",
          "height": 339
        },
        "id": "MLtJZCzuvmh7",
        "outputId": "af3b3914-f20f-490f-b5bb-e64a270f28d0"
      },
      "source": [
        "rw =data.groupby('Region')['Profit','Sales'].agg('sum')\n",
        "rw.plot.bar()\n",
        "plt.legend(loc='upper left')\n",
        "plt.title('Region-wise Profit and Sales')\n"
      ],
      "execution_count": null,
      "outputs": [
        {
          "output_type": "execute_result",
          "data": {
            "text/plain": [
              "Text(0.5, 1.0, 'Region-wise Profit and Sales')"
            ]
          },
          "metadata": {
            "tags": []
          },
          "execution_count": 36
        },
        {
          "output_type": "display_data",
          "data": {
            "image/png": "[encoded data removed]",
            "text/plain": [
              "<Figure size 432x288 with 1 Axes>"
            ]
          },
          "metadata": {
            "tags": [],
            "needs_background": "light"
          }
        }
      ]
    },
    {
      "cell_type": "code",
      "metadata": {
        "colab": {
          "base_uri": "https://localhost:8080/",
          "height": 592
        },
        "id": "dBysVhWwvw7I",
        "outputId": "c75b6af3-8ade-4834-871f-48ff526cba32"
      },
      "source": [
        "plt.figure(figsize=(10,10))\n",
        "data['Region'].value_counts().plot.pie(autopct=\"%1.1f%%\")\n"
      ],
      "execution_count": null,
      "outputs": [
        {
          "output_type": "execute_result",
          "data": {
            "text/plain": [
              "<matplotlib.axes._subplots.AxesSubplot at 0x7f9946b16450>"
            ]
          },
          "metadata": {
            "tags": []
          },
          "execution_count": 37
        },
        {
          "output_type": "display_data",
          "data": {
            "image/png": "[encoded data removed]",
            "text/plain": [
              "<Figure size 720x720 with 1 Axes>"
            ]
          },
          "metadata": {
            "tags": []
          }
        }
      ]
    },
    {
      "cell_type": "markdown",
      "metadata": {
        "id": "g_h6Qdxvv2po"
      },
      "source": [
        "City-wise Analysis"
      ]
    },
    {
      "cell_type": "code",
      "metadata": {
        "id": "xItkdxHhv4Jw"
      },
      "source": [
        "city = []\n",
        "cities = data.groupby('City')\n",
        "for i,df in cities:\n",
        "    city.append(i)"
      ],
      "execution_count": null,
      "outputs": []
    },
    {
      "cell_type": "code",
      "metadata": {
        "colab": {
          "base_uri": "https://localhost:8080/"
        },
        "id": "rp0suChfv9mB",
        "outputId": "c4097b89-5333-4c43-f337-b7f2caefff1c"
      },
      "source": [
        "city"
      ],
      "execution_count": null,
      "outputs": [
        {
          "output_type": "execute_result",
          "data": {
            "text/plain": [
              "['Aberdeen',\n",
              " 'Abilene',\n",
              " 'Akron',\n",
              " 'Albuquerque',\n",
              " 'Alexandria',\n",
              " 'Allen',\n",
              " 'Allentown',\n",
              " 'Altoona',\n",
              " 'Amarillo',\n",
              " 'Anaheim',\n",
              " 'Andover',\n",
              " 'Ann Arbor',\n",
              " 'Antioch',\n",
              " 'Apopka',\n",
              " 'Apple Valley',\n",
              " 'Appleton',\n",
              " 'Arlington',\n",
              " 'Arlington Heights',\n",
              " 'Arvada',\n",
              " 'Asheville',\n",
              " 'Athens',\n",
              " 'Atlanta',\n",
              " 'Atlantic City',\n",
              " 'Auburn',\n",
              " 'Aurora',\n",
              " 'Austin',\n",
              " 'Avondale',\n",
              " 'Bakersfield',\n",
              " 'Baltimore',\n",
              " 'Bangor',\n",
              " 'Bartlett',\n",
              " 'Bayonne',\n",
              " 'Baytown',\n",
              " 'Beaumont',\n",
              " 'Bedford',\n",
              " 'Belleville',\n",
              " 'Bellevue',\n",
              " 'Bellingham',\n",
              " 'Bethlehem',\n",
              " 'Beverly',\n",
              " 'Billings',\n",
              " 'Bloomington',\n",
              " 'Boca Raton',\n",
              " 'Boise',\n",
              " 'Bolingbrook',\n",
              " 'Bossier City',\n",
              " 'Bowling Green',\n",
              " 'Boynton Beach',\n",
              " 'Bozeman',\n",
              " 'Brentwood',\n",
              " 'Bridgeton',\n",
              " 'Bristol',\n",
              " 'Broken Arrow',\n",
              " 'Broomfield',\n",
              " 'Brownsville',\n",
              " 'Bryan',\n",
              " 'Buffalo',\n",
              " 'Buffalo Grove',\n",
              " 'Bullhead City',\n",
              " 'Burbank',\n",
              " 'Burlington',\n",
              " 'Caldwell',\n",
              " 'Camarillo',\n",
              " 'Cambridge',\n",
              " 'Canton',\n",
              " 'Carlsbad',\n",
              " 'Carol Stream',\n",
              " 'Carrollton',\n",
              " 'Cary',\n",
              " 'Cedar Hill',\n",
              " 'Cedar Rapids',\n",
              " 'Champaign',\n",
              " 'Chandler',\n",
              " 'Chapel Hill',\n",
              " 'Charlotte',\n",
              " 'Charlottesville',\n",
              " 'Chattanooga',\n",
              " 'Chesapeake',\n",
              " 'Chester',\n",
              " 'Cheyenne',\n",
              " 'Chicago',\n",
              " 'Chico',\n",
              " 'Chula Vista',\n",
              " 'Cincinnati',\n",
              " 'Citrus Heights',\n",
              " 'Clarksville',\n",
              " 'Cleveland',\n",
              " 'Clifton',\n",
              " 'Clinton',\n",
              " 'Clovis',\n",
              " 'Coachella',\n",
              " 'College Station',\n",
              " 'Colorado Springs',\n",
              " 'Columbia',\n",
              " 'Columbus',\n",
              " 'Commerce City',\n",
              " 'Concord',\n",
              " 'Conroe',\n",
              " 'Conway',\n",
              " 'Coon Rapids',\n",
              " 'Coppell',\n",
              " 'Coral Gables',\n",
              " 'Coral Springs',\n",
              " 'Corpus Christi',\n",
              " 'Costa Mesa',\n",
              " 'Cottage Grove',\n",
              " 'Covington',\n",
              " 'Cranston',\n",
              " 'Cuyahoga Falls',\n",
              " 'Dallas',\n",
              " 'Danbury',\n",
              " 'Danville',\n",
              " 'Davis',\n",
              " 'Daytona Beach',\n",
              " 'Dearborn',\n",
              " 'Dearborn Heights',\n",
              " 'Decatur',\n",
              " 'Deer Park',\n",
              " 'Delray Beach',\n",
              " 'Deltona',\n",
              " 'Denver',\n",
              " 'Des Moines',\n",
              " 'Des Plaines',\n",
              " 'Detroit',\n",
              " 'Dover',\n",
              " 'Draper',\n",
              " 'Dublin',\n",
              " 'Dubuque',\n",
              " 'Durham',\n",
              " 'Eagan',\n",
              " 'East Orange',\n",
              " 'East Point',\n",
              " 'Eau Claire',\n",
              " 'Edinburg',\n",
              " 'Edmond',\n",
              " 'Edmonds',\n",
              " 'El Cajon',\n",
              " 'El Paso',\n",
              " 'Elkhart',\n",
              " 'Elmhurst',\n",
              " 'Elyria',\n",
              " 'Encinitas',\n",
              " 'Englewood',\n",
              " 'Escondido',\n",
              " 'Eugene',\n",
              " 'Evanston',\n",
              " 'Everett',\n",
              " 'Fairfield',\n",
              " 'Fargo',\n",
              " 'Farmington',\n",
              " 'Fayetteville',\n",
              " 'Florence',\n",
              " 'Fort Collins',\n",
              " 'Fort Lauderdale',\n",
              " 'Fort Worth',\n",
              " 'Frankfort',\n",
              " 'Franklin',\n",
              " 'Freeport',\n",
              " 'Fremont',\n",
              " 'Fresno',\n",
              " 'Frisco',\n",
              " 'Gaithersburg',\n",
              " 'Garden City',\n",
              " 'Garland',\n",
              " 'Gastonia',\n",
              " 'Georgetown',\n",
              " 'Gilbert',\n",
              " 'Gladstone',\n",
              " 'Glendale',\n",
              " 'Glenview',\n",
              " 'Goldsboro',\n",
              " 'Grand Island',\n",
              " 'Grand Prairie',\n",
              " 'Grand Rapids',\n",
              " 'Grapevine',\n",
              " 'Great Falls',\n",
              " 'Greeley',\n",
              " 'Green Bay',\n",
              " 'Greensboro',\n",
              " 'Greenville',\n",
              " 'Greenwood',\n",
              " 'Gresham',\n",
              " 'Grove City',\n",
              " 'Gulfport',\n",
              " 'Hackensack',\n",
              " 'Hagerstown',\n",
              " 'Haltom City',\n",
              " 'Hamilton',\n",
              " 'Hampton',\n",
              " 'Harlingen',\n",
              " 'Harrisonburg',\n",
              " 'Hattiesburg',\n",
              " 'Helena',\n",
              " 'Hempstead',\n",
              " 'Henderson',\n",
              " 'Hendersonville',\n",
              " 'Hesperia',\n",
              " 'Hialeah',\n",
              " 'Hickory',\n",
              " 'Highland Park',\n",
              " 'Hillsboro',\n",
              " 'Holland',\n",
              " 'Hollywood',\n",
              " 'Holyoke',\n",
              " 'Homestead',\n",
              " 'Hoover',\n",
              " 'Hot Springs',\n",
              " 'Houston',\n",
              " 'Huntington Beach',\n",
              " 'Huntsville',\n",
              " 'Independence',\n",
              " 'Indianapolis',\n",
              " 'Inglewood',\n",
              " 'Iowa City',\n",
              " 'Irving',\n",
              " 'Jackson',\n",
              " 'Jacksonville',\n",
              " 'Jamestown',\n",
              " 'Jefferson City',\n",
              " 'Johnson City',\n",
              " 'Jonesboro',\n",
              " 'Jupiter',\n",
              " 'Keller',\n",
              " 'Kenner',\n",
              " 'Kenosha',\n",
              " 'Kent',\n",
              " 'Kirkwood',\n",
              " 'Kissimmee',\n",
              " 'Knoxville',\n",
              " 'La Crosse',\n",
              " 'La Mesa',\n",
              " 'La Porte',\n",
              " 'La Quinta',\n",
              " 'Lafayette',\n",
              " 'Laguna Niguel',\n",
              " 'Lake Charles',\n",
              " 'Lake Elsinore',\n",
              " 'Lake Forest',\n",
              " 'Lakeland',\n",
              " 'Lakeville',\n",
              " 'Lakewood',\n",
              " 'Lancaster',\n",
              " 'Lansing',\n",
              " 'Laredo',\n",
              " 'Las Cruces',\n",
              " 'Las Vegas',\n",
              " 'Laurel',\n",
              " 'Lawrence',\n",
              " 'Lawton',\n",
              " 'Layton',\n",
              " 'League City',\n",
              " 'Lebanon',\n",
              " 'Lehi',\n",
              " 'Leominster',\n",
              " 'Lewiston',\n",
              " 'Lincoln Park',\n",
              " 'Linden',\n",
              " 'Lindenhurst',\n",
              " 'Little Rock',\n",
              " 'Littleton',\n",
              " 'Lodi',\n",
              " 'Logan',\n",
              " 'Long Beach',\n",
              " 'Longmont',\n",
              " 'Longview',\n",
              " 'Lorain',\n",
              " 'Los Angeles',\n",
              " 'Louisville',\n",
              " 'Loveland',\n",
              " 'Lowell',\n",
              " 'Lubbock',\n",
              " 'Macon',\n",
              " 'Madison',\n",
              " 'Malden',\n",
              " 'Manchester',\n",
              " 'Manhattan',\n",
              " 'Mansfield',\n",
              " 'Manteca',\n",
              " 'Maple Grove',\n",
              " 'Margate',\n",
              " 'Marietta',\n",
              " 'Marion',\n",
              " 'Marlborough',\n",
              " 'Marysville',\n",
              " 'Mason',\n",
              " 'Mcallen',\n",
              " 'Medford',\n",
              " 'Medina',\n",
              " 'Melbourne',\n",
              " 'Memphis',\n",
              " 'Mentor',\n",
              " 'Meriden',\n",
              " 'Meridian',\n",
              " 'Mesa',\n",
              " 'Mesquite',\n",
              " 'Miami',\n",
              " 'Middletown',\n",
              " 'Midland',\n",
              " 'Milford',\n",
              " 'Milwaukee',\n",
              " 'Minneapolis',\n",
              " 'Miramar',\n",
              " 'Mishawaka',\n",
              " 'Mission Viejo',\n",
              " 'Missoula',\n",
              " 'Missouri City',\n",
              " 'Mobile',\n",
              " 'Modesto',\n",
              " 'Monroe',\n",
              " 'Montebello',\n",
              " 'Montgomery',\n",
              " 'Moorhead',\n",
              " 'Moreno Valley',\n",
              " 'Morgan Hill',\n",
              " 'Morristown',\n",
              " 'Mount Pleasant',\n",
              " 'Mount Vernon',\n",
              " 'Murfreesboro',\n",
              " 'Murray',\n",
              " 'Murrieta',\n",
              " 'Muskogee',\n",
              " 'Naperville',\n",
              " 'Nashua',\n",
              " 'Nashville',\n",
              " 'New Albany',\n",
              " 'New Bedford',\n",
              " 'New Brunswick',\n",
              " 'New Castle',\n",
              " 'New Rochelle',\n",
              " 'New York City',\n",
              " 'Newark',\n",
              " 'Newport News',\n",
              " 'Niagara Falls',\n",
              " 'Noblesville',\n",
              " 'Norfolk',\n",
              " 'Normal',\n",
              " 'Norman',\n",
              " 'North Charleston',\n",
              " 'North Las Vegas',\n",
              " 'North Miami',\n",
              " 'Norwich',\n",
              " 'Oak Park',\n",
              " 'Oakland',\n",
              " 'Oceanside',\n",
              " 'Odessa',\n",
              " 'Oklahoma City',\n",
              " 'Olathe',\n",
              " 'Olympia',\n",
              " 'Omaha',\n",
              " 'Ontario',\n",
              " 'Orange',\n",
              " 'Orem',\n",
              " 'Orland Park',\n",
              " 'Orlando',\n",
              " 'Ormond Beach',\n",
              " 'Oswego',\n",
              " 'Overland Park',\n",
              " 'Owensboro',\n",
              " 'Oxnard',\n",
              " 'Palatine',\n",
              " 'Palm Coast',\n",
              " 'Park Ridge',\n",
              " 'Parker',\n",
              " 'Parma',\n",
              " 'Pasadena',\n",
              " 'Pasco',\n",
              " 'Passaic',\n",
              " 'Paterson',\n",
              " 'Pearland',\n",
              " 'Pembroke Pines',\n",
              " 'Pensacola',\n",
              " 'Peoria',\n",
              " 'Perth Amboy',\n",
              " 'Pharr',\n",
              " 'Philadelphia',\n",
              " 'Phoenix',\n",
              " 'Pico Rivera',\n",
              " 'Pine Bluff',\n",
              " 'Plainfield',\n",
              " 'Plano',\n",
              " 'Plantation',\n",
              " 'Pleasant Grove',\n",
              " 'Pocatello',\n",
              " 'Pomona',\n",
              " 'Pompano Beach',\n",
              " 'Port Arthur',\n",
              " 'Port Orange',\n",
              " 'Port Saint Lucie',\n",
              " 'Portage',\n",
              " 'Portland',\n",
              " 'Providence',\n",
              " 'Provo',\n",
              " 'Pueblo',\n",
              " 'Quincy',\n",
              " 'Raleigh',\n",
              " 'Rancho Cucamonga',\n",
              " 'Rapid City',\n",
              " 'Reading',\n",
              " 'Redding',\n",
              " 'Redlands',\n",
              " 'Redmond',\n",
              " 'Redondo Beach',\n",
              " 'Redwood City',\n",
              " 'Reno',\n",
              " 'Renton',\n",
              " 'Revere',\n",
              " 'Richardson',\n",
              " 'Richmond',\n",
              " 'Rio Rancho',\n",
              " 'Riverside',\n",
              " 'Rochester',\n",
              " 'Rochester Hills',\n",
              " 'Rock Hill',\n",
              " 'Rockford',\n",
              " 'Rockville',\n",
              " 'Rogers',\n",
              " 'Rome',\n",
              " 'Romeoville',\n",
              " 'Roseville',\n",
              " 'Roswell',\n",
              " 'Round Rock',\n",
              " 'Royal Oak',\n",
              " 'Sacramento',\n",
              " 'Saginaw',\n",
              " 'Saint Charles',\n",
              " 'Saint Cloud',\n",
              " 'Saint Louis',\n",
              " 'Saint Paul',\n",
              " 'Saint Peters',\n",
              " 'Saint Petersburg',\n",
              " 'Salem',\n",
              " 'Salinas',\n",
              " 'Salt Lake City',\n",
              " 'San Angelo',\n",
              " 'San Antonio',\n",
              " 'San Bernardino',\n",
              " 'San Clemente',\n",
              " 'San Diego',\n",
              " 'San Francisco',\n",
              " 'San Gabriel',\n",
              " 'San Jose',\n",
              " 'San Luis Obispo',\n",
              " 'San Marcos',\n",
              " 'San Mateo',\n",
              " 'Sandy Springs',\n",
              " 'Sanford',\n",
              " 'Santa Ana',\n",
              " 'Santa Barbara',\n",
              " 'Santa Clara',\n",
              " 'Santa Fe',\n",
              " 'Santa Maria',\n",
              " 'Scottsdale',\n",
              " 'Seattle',\n",
              " 'Sheboygan',\n",
              " 'Shelton',\n",
              " 'Sierra Vista',\n",
              " 'Sioux Falls',\n",
              " 'Skokie',\n",
              " 'Smyrna',\n",
              " 'South Bend',\n",
              " 'Southaven',\n",
              " 'Sparks',\n",
              " 'Spokane',\n",
              " 'Springdale',\n",
              " 'Springfield',\n",
              " 'Sterling Heights',\n",
              " 'Stockton',\n",
              " 'Suffolk',\n",
              " 'Summerville',\n",
              " 'Sunnyvale',\n",
              " 'Superior',\n",
              " 'Tallahassee',\n",
              " 'Tamarac',\n",
              " 'Tampa',\n",
              " 'Taylor',\n",
              " 'Temecula',\n",
              " 'Tempe',\n",
              " 'Texarkana',\n",
              " 'Texas City',\n",
              " 'The Colony',\n",
              " 'Thomasville',\n",
              " 'Thornton',\n",
              " 'Thousand Oaks',\n",
              " 'Tigard',\n",
              " 'Tinley Park',\n",
              " 'Toledo',\n",
              " 'Torrance',\n",
              " 'Trenton',\n",
              " 'Troy',\n",
              " 'Tucson',\n",
              " 'Tulsa',\n",
              " 'Tuscaloosa',\n",
              " 'Twin Falls',\n",
              " 'Tyler',\n",
              " 'Urbandale',\n",
              " 'Utica',\n",
              " 'Vacaville',\n",
              " 'Vallejo',\n",
              " 'Vancouver',\n",
              " 'Vineland',\n",
              " 'Virginia Beach',\n",
              " 'Visalia',\n",
              " 'Waco',\n",
              " 'Warner Robins',\n",
              " 'Warwick',\n",
              " 'Washington',\n",
              " 'Waterbury',\n",
              " 'Waterloo',\n",
              " 'Watertown',\n",
              " 'Waukesha',\n",
              " 'Wausau',\n",
              " 'Waynesboro',\n",
              " 'West Allis',\n",
              " 'West Jordan',\n",
              " 'West Palm Beach',\n",
              " 'Westfield',\n",
              " 'Westland',\n",
              " 'Westminster',\n",
              " 'Wheeling',\n",
              " 'Whittier',\n",
              " 'Wichita',\n",
              " 'Wilmington',\n",
              " 'Wilson',\n",
              " 'Woodbury',\n",
              " 'Woodland',\n",
              " 'Woodstock',\n",
              " 'Woonsocket',\n",
              " 'Yonkers',\n",
              " 'York',\n",
              " 'Yucaipa',\n",
              " 'Yuma']"
            ]
          },
          "metadata": {
            "tags": []
          },
          "execution_count": 39
        }
      ]
    },
    {
      "cell_type": "code",
      "metadata": {
        "colab": {
          "base_uri": "https://localhost:8080/"
        },
        "id": "mf-CyGd3wGzx",
        "outputId": "bec748f2-6beb-40f7-f51e-345b54f2082f"
      },
      "source": [
        "len(city)"
      ],
      "execution_count": null,
      "outputs": [
        {
          "output_type": "execute_result",
          "data": {
            "text/plain": [
              "531"
            ]
          },
          "metadata": {
            "tags": []
          },
          "execution_count": 40
        }
      ]
    },
    {
      "cell_type": "code",
      "metadata": {
        "colab": {
          "base_uri": "https://localhost:8080/"
        },
        "id": "SlFwK6orwLcF",
        "outputId": "5607e498-8bde-4776-8028-e4d80d34011a"
      },
      "source": [
        "data['City'].value_counts()"
      ],
      "execution_count": null,
      "outputs": [
        {
          "output_type": "execute_result",
          "data": {
            "text/plain": [
              "New York City      915\n",
              "Los Angeles        747\n",
              "Philadelphia       537\n",
              "San Francisco      510\n",
              "Seattle            428\n",
              "                  ... \n",
              "Ontario              1\n",
              "Rochester Hills      1\n",
              "Elyria               1\n",
              "Hagerstown           1\n",
              "San Mateo            1\n",
              "Name: City, Length: 531, dtype: int64"
            ]
          },
          "metadata": {
            "tags": []
          },
          "execution_count": 41
        }
      ]
    },
    {
      "cell_type": "code",
      "metadata": {
        "colab": {
          "base_uri": "https://localhost:8080/"
        },
        "id": "EafdLzVEwQdh",
        "outputId": "28cb76c3-3131-4b04-cf6b-78fdc8e912e6"
      },
      "source": [
        "data['City'].value_counts().min()"
      ],
      "execution_count": null,
      "outputs": [
        {
          "output_type": "execute_result",
          "data": {
            "text/plain": [
              "1"
            ]
          },
          "metadata": {
            "tags": []
          },
          "execution_count": 42
        }
      ]
    },
    {
      "cell_type": "code",
      "metadata": {
        "colab": {
          "base_uri": "https://localhost:8080/"
        },
        "id": "pU-9PphKwTn-",
        "outputId": "e75000a4-153f-4837-9a39-bdd1a3034be1"
      },
      "source": [
        "data['City'].value_counts().max()"
      ],
      "execution_count": null,
      "outputs": [
        {
          "output_type": "execute_result",
          "data": {
            "text/plain": [
              "915"
            ]
          },
          "metadata": {
            "tags": []
          },
          "execution_count": 43
        }
      ]
    },
    {
      "cell_type": "code",
      "metadata": {
        "colab": {
          "base_uri": "https://localhost:8080/",
          "height": 606
        },
        "id": "mEyh5JTrwYNi",
        "outputId": "c50ae945-039b-4c14-92d2-830457c4d914"
      },
      "source": [
        "data[data['City']=='New York City']"
      ],
      "execution_count": null,
      "outputs": [
        {
          "output_type": "execute_result",
          "data": {
            "text/html": [
              "<div>\n",
              "<style scoped>\n",
              "    .dataframe tbody tr th:only-of-type {\n",
              "        vertical-align: middle;\n",
              "    }\n",
              "\n",
              "    .dataframe tbody tr th {\n",
              "        vertical-align: top;\n",
              "    }\n",
              "\n",
              "    .dataframe thead th {\n",
              "        text-align: right;\n",
              "    }\n",
              "</style>\n",
              "<table border=\"1\" class=\"dataframe\">\n",
              "  <thead>\n",
              "    <tr style=\"text-align: right;\">\n",
              "      <th></th>\n",
              "      <th>Ship Mode</th>\n",
              "      <th>Segment</th>\n",
              "      <th>Country</th>\n",
              "      <th>City</th>\n",
              "      <th>State</th>\n",
              "      <th>Postal Code</th>\n",
              "      <th>Region</th>\n",
              "      <th>Category</th>\n",
              "      <th>Sub-Category</th>\n",
              "      <th>Sales</th>\n",
              "      <th>Quantity</th>\n",
              "      <th>Discount</th>\n",
              "      <th>Profit</th>\n",
              "      <th>Cost</th>\n",
              "    </tr>\n",
              "  </thead>\n",
              "  <tbody>\n",
              "    <tr>\n",
              "      <th>53</th>\n",
              "      <td>Standard Class</td>\n",
              "      <td>Corporate</td>\n",
              "      <td>United States</td>\n",
              "      <td>New York City</td>\n",
              "      <td>New York</td>\n",
              "      <td>10024</td>\n",
              "      <td>East</td>\n",
              "      <td>Office Supplies</td>\n",
              "      <td>Fasteners</td>\n",
              "      <td>15.260</td>\n",
              "      <td>7</td>\n",
              "      <td>0.0</td>\n",
              "      <td>6.2566</td>\n",
              "      <td>69.491525</td>\n",
              "    </tr>\n",
              "    <tr>\n",
              "      <th>54</th>\n",
              "      <td>Standard Class</td>\n",
              "      <td>Corporate</td>\n",
              "      <td>United States</td>\n",
              "      <td>New York City</td>\n",
              "      <td>New York</td>\n",
              "      <td>10024</td>\n",
              "      <td>East</td>\n",
              "      <td>Technology</td>\n",
              "      <td>Phones</td>\n",
              "      <td>1029.950</td>\n",
              "      <td>5</td>\n",
              "      <td>0.0</td>\n",
              "      <td>298.6855</td>\n",
              "      <td>40.845070</td>\n",
              "    </tr>\n",
              "    <tr>\n",
              "      <th>70</th>\n",
              "      <td>Standard Class</td>\n",
              "      <td>Consumer</td>\n",
              "      <td>United States</td>\n",
              "      <td>New York City</td>\n",
              "      <td>New York</td>\n",
              "      <td>10009</td>\n",
              "      <td>East</td>\n",
              "      <td>Office Supplies</td>\n",
              "      <td>Binders</td>\n",
              "      <td>4.616</td>\n",
              "      <td>1</td>\n",
              "      <td>0.2</td>\n",
              "      <td>1.7310</td>\n",
              "      <td>60.000000</td>\n",
              "    </tr>\n",
              "    <tr>\n",
              "      <th>96</th>\n",
              "      <td>Second Class</td>\n",
              "      <td>Home Office</td>\n",
              "      <td>United States</td>\n",
              "      <td>New York City</td>\n",
              "      <td>New York</td>\n",
              "      <td>10009</td>\n",
              "      <td>East</td>\n",
              "      <td>Furniture</td>\n",
              "      <td>Furnishings</td>\n",
              "      <td>96.530</td>\n",
              "      <td>7</td>\n",
              "      <td>0.0</td>\n",
              "      <td>40.5426</td>\n",
              "      <td>72.413793</td>\n",
              "    </tr>\n",
              "    <tr>\n",
              "      <th>110</th>\n",
              "      <td>Standard Class</td>\n",
              "      <td>Corporate</td>\n",
              "      <td>United States</td>\n",
              "      <td>New York City</td>\n",
              "      <td>New York</td>\n",
              "      <td>10035</td>\n",
              "      <td>East</td>\n",
              "      <td>Furniture</td>\n",
              "      <td>Furnishings</td>\n",
              "      <td>41.960</td>\n",
              "      <td>2</td>\n",
              "      <td>0.0</td>\n",
              "      <td>10.9096</td>\n",
              "      <td>35.135135</td>\n",
              "    </tr>\n",
              "    <tr>\n",
              "      <th>...</th>\n",
              "      <td>...</td>\n",
              "      <td>...</td>\n",
              "      <td>...</td>\n",
              "      <td>...</td>\n",
              "      <td>...</td>\n",
              "      <td>...</td>\n",
              "      <td>...</td>\n",
              "      <td>...</td>\n",
              "      <td>...</td>\n",
              "      <td>...</td>\n",
              "      <td>...</td>\n",
              "      <td>...</td>\n",
              "      <td>...</td>\n",
              "      <td>...</td>\n",
              "    </tr>\n",
              "    <tr>\n",
              "      <th>9926</th>\n",
              "      <td>First Class</td>\n",
              "      <td>Corporate</td>\n",
              "      <td>United States</td>\n",
              "      <td>New York City</td>\n",
              "      <td>New York</td>\n",
              "      <td>10035</td>\n",
              "      <td>East</td>\n",
              "      <td>Technology</td>\n",
              "      <td>Phones</td>\n",
              "      <td>199.980</td>\n",
              "      <td>2</td>\n",
              "      <td>0.0</td>\n",
              "      <td>53.9946</td>\n",
              "      <td>36.986301</td>\n",
              "    </tr>\n",
              "    <tr>\n",
              "      <th>9927</th>\n",
              "      <td>First Class</td>\n",
              "      <td>Corporate</td>\n",
              "      <td>United States</td>\n",
              "      <td>New York City</td>\n",
              "      <td>New York</td>\n",
              "      <td>10035</td>\n",
              "      <td>East</td>\n",
              "      <td>Office Supplies</td>\n",
              "      <td>Storage</td>\n",
              "      <td>83.920</td>\n",
              "      <td>4</td>\n",
              "      <td>0.0</td>\n",
              "      <td>20.1408</td>\n",
              "      <td>31.578947</td>\n",
              "    </tr>\n",
              "    <tr>\n",
              "      <th>9938</th>\n",
              "      <td>Standard Class</td>\n",
              "      <td>Corporate</td>\n",
              "      <td>United States</td>\n",
              "      <td>New York City</td>\n",
              "      <td>New York</td>\n",
              "      <td>10009</td>\n",
              "      <td>East</td>\n",
              "      <td>Furniture</td>\n",
              "      <td>Furnishings</td>\n",
              "      <td>60.350</td>\n",
              "      <td>5</td>\n",
              "      <td>0.0</td>\n",
              "      <td>19.9155</td>\n",
              "      <td>49.253731</td>\n",
              "    </tr>\n",
              "    <tr>\n",
              "      <th>9939</th>\n",
              "      <td>Standard Class</td>\n",
              "      <td>Corporate</td>\n",
              "      <td>United States</td>\n",
              "      <td>New York City</td>\n",
              "      <td>New York</td>\n",
              "      <td>10009</td>\n",
              "      <td>East</td>\n",
              "      <td>Office Supplies</td>\n",
              "      <td>Supplies</td>\n",
              "      <td>35.520</td>\n",
              "      <td>4</td>\n",
              "      <td>0.0</td>\n",
              "      <td>9.9456</td>\n",
              "      <td>38.888889</td>\n",
              "    </tr>\n",
              "    <tr>\n",
              "      <th>9940</th>\n",
              "      <td>Standard Class</td>\n",
              "      <td>Corporate</td>\n",
              "      <td>United States</td>\n",
              "      <td>New York City</td>\n",
              "      <td>New York</td>\n",
              "      <td>10009</td>\n",
              "      <td>East</td>\n",
              "      <td>Office Supplies</td>\n",
              "      <td>Art</td>\n",
              "      <td>11.200</td>\n",
              "      <td>7</td>\n",
              "      <td>0.0</td>\n",
              "      <td>4.8160</td>\n",
              "      <td>75.438596</td>\n",
              "    </tr>\n",
              "  </tbody>\n",
              "</table>\n",
              "<p>915 rows × 14 columns</p>\n",
              "</div>"
            ],
            "text/plain": [
              "           Ship Mode      Segment        Country  ... Discount    Profit       Cost\n",
              "53    Standard Class    Corporate  United States  ...      0.0    6.2566  69.491525\n",
              "54    Standard Class    Corporate  United States  ...      0.0  298.6855  40.845070\n",
              "70    Standard Class     Consumer  United States  ...      0.2    1.7310  60.000000\n",
              "96      Second Class  Home Office  United States  ...      0.0   40.5426  72.413793\n",
              "110   Standard Class    Corporate  United States  ...      0.0   10.9096  35.135135\n",
              "...              ...          ...            ...  ...      ...       ...        ...\n",
              "9926     First Class    Corporate  United States  ...      0.0   53.9946  36.986301\n",
              "9927     First Class    Corporate  United States  ...      0.0   20.1408  31.578947\n",
              "9938  Standard Class    Corporate  United States  ...      0.0   19.9155  49.253731\n",
              "9939  Standard Class    Corporate  United States  ...      0.0    9.9456  38.888889\n",
              "9940  Standard Class    Corporate  United States  ...      0.0    4.8160  75.438596\n",
              "\n",
              "[915 rows x 14 columns]"
            ]
          },
          "metadata": {
            "tags": []
          },
          "execution_count": 44
        }
      ]
    }
  ]
}